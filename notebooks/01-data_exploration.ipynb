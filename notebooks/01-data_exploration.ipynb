{
 "cells": [
  {
   "cell_type": "markdown",
   "metadata": {},
   "source": [
    "# DATA EXPLORATION"
   ]
  },
  {
   "cell_type": "code",
   "execution_count": 1,
   "metadata": {},
   "outputs": [],
   "source": [
    "import sys\n",
    "sys.path.append('../')"
   ]
  },
  {
   "cell_type": "markdown",
   "metadata": {},
   "source": [
    "## Loading DarijaBench Dataset\n",
    "Let's first load MBZUAI, darija's benchmark dataset"
   ]
  },
  {
   "cell_type": "code",
   "execution_count": 2,
   "metadata": {},
   "outputs": [
    {
     "name": "stderr",
     "output_type": "stream",
     "text": [
      "2024-11-28 12:55:50,901 - INFO - Created directory: data/raw\n",
      "2024-11-28 12:55:50,903 - INFO - Created directory: data/processed\n",
      "2024-11-28 12:56:00,607 - INFO - Lock 1703148958256 acquired on C:\\Users\\ismoi\\.cache\\huggingface\\datasets\\_Users_ismoi_.cache_huggingface_datasets_MBZUAI-Paris___darija_bench_default_0.0.0_7f3f5c4c61dfb4cd04c822f808b6bc74e5a39135.lock\n",
      "2024-11-28 12:56:00,608 - INFO - Lock 1703148958256 released on C:\\Users\\ismoi\\.cache\\huggingface\\datasets\\_Users_ismoi_.cache_huggingface_datasets_MBZUAI-Paris___darija_bench_default_0.0.0_7f3f5c4c61dfb4cd04c822f808b6bc74e5a39135.lock\n",
      "2024-11-28 12:56:00,773 - INFO - Lock 1703153847808 acquired on C:\\Users\\ismoi\\.cache\\huggingface\\datasets\\MBZUAI-Paris___darija_bench\\default\\0.0.0\\7f3f5c4c61dfb4cd04c822f808b6bc74e5a39135_builder.lock\n",
      "2024-11-28 12:56:00,773 - INFO - Lock 1703153847808 released on C:\\Users\\ismoi\\.cache\\huggingface\\datasets\\MBZUAI-Paris___darija_bench\\default\\0.0.0\\7f3f5c4c61dfb4cd04c822f808b6bc74e5a39135_builder.lock\n",
      "2024-11-28 12:56:00,794 - INFO - Successfully loaded dataset: MBZUAI-Paris/DarijaBench\n"
     ]
    }
   ],
   "source": [
    "from src.data_preprocessing import load_hf_dataset, preprocess_dataset, save_processed_data\n",
    "import logging\n",
    "\n",
    "dataset = load_hf_dataset(\"MBZUAI-Paris/DarijaBench\")"
   ]
  },
  {
   "cell_type": "code",
   "execution_count": 3,
   "metadata": {},
   "outputs": [],
   "source": [
    "RAW_DATA_DIR = \"../data/raw\"\n",
    "PROCESSED_DATA_DIR = \"../data/processed\"\n",
    "logging.basicConfig(level=logging.INFO, format='%(asctime)s - %(levelname)s - %(message)s')"
   ]
  },
  {
   "cell_type": "markdown",
   "metadata": {},
   "source": [
    "## Data example:"
   ]
  },
  {
   "cell_type": "code",
   "execution_count": 4,
   "metadata": {},
   "outputs": [
    {
     "name": "stdout",
     "output_type": "stream",
     "text": [
      "Prompt :ترجم من الفرنساوية للدارجة:\n",
      "ne le dis à personne, \n",
      "Answer:ماتڭولش هادشي لحتّا واحد\n"
     ]
    }
   ],
   "source": [
    "print(f\"Prompt :{dataset[\"doda\"]['messages'][0][0]['content']}, \\nAnswer:{dataset[\"doda\"][\"messages\"][0][1]['content']}\")"
   ]
  },
  {
   "cell_type": "markdown",
   "metadata": {},
   "source": [
    "## Data Preprocessing"
   ]
  },
  {
   "cell_type": "code",
   "execution_count": 5,
   "metadata": {},
   "outputs": [
    {
     "name": "stderr",
     "output_type": "stream",
     "text": [
      "2024-11-28 12:56:15,690 - INFO - Processing doda split...\n",
      "2024-11-28 12:56:15,691 - INFO - Preprocessing dataset split...\n",
      "2024-11-28 12:56:15,783 - INFO - Preprocessing complete.\n",
      "2024-11-28 12:56:15,807 - INFO - Data successfully saved to ../data/processed/doda.txt\n",
      "2024-11-28 12:56:15,807 - INFO - Processing madar split...\n",
      "2024-11-28 12:56:15,807 - INFO - Preprocessing dataset split...\n",
      "2024-11-28 12:56:15,895 - INFO - Preprocessing complete.\n",
      "2024-11-28 12:56:15,919 - INFO - Data successfully saved to ../data/processed/madar.txt\n",
      "2024-11-28 12:56:15,921 - INFO - Processing seed split...\n",
      "2024-11-28 12:56:15,921 - INFO - Preprocessing dataset split...\n",
      "2024-11-28 12:56:15,980 - INFO - Preprocessing complete.\n",
      "2024-11-28 12:56:15,992 - INFO - Data successfully saved to ../data/processed/seed.txt\n",
      "2024-11-28 12:56:15,993 - INFO - Processing flores_plus split...\n",
      "2024-11-28 12:56:15,994 - INFO - Preprocessing dataset split...\n",
      "2024-11-28 12:56:16,171 - INFO - Preprocessing complete.\n",
      "2024-11-28 12:56:16,195 - INFO - Data successfully saved to ../data/processed/flores_plus.txt\n",
      "2024-11-28 12:56:16,195 - INFO - Processing msac split...\n",
      "2024-11-28 12:56:16,196 - INFO - Preprocessing dataset split...\n",
      "2024-11-28 12:56:16,201 - INFO - Preprocessing complete.\n",
      "2024-11-28 12:56:16,207 - INFO - Data successfully saved to ../data/processed/msac.txt\n",
      "2024-11-28 12:56:16,207 - INFO - Processing msda split...\n",
      "2024-11-28 12:56:16,207 - INFO - Preprocessing dataset split...\n",
      "2024-11-28 12:56:16,320 - INFO - Preprocessing complete.\n",
      "2024-11-28 12:56:16,338 - INFO - Data successfully saved to ../data/processed/msda.txt\n",
      "2024-11-28 12:56:16,340 - INFO - Processing electro_maroc split...\n",
      "2024-11-28 12:56:16,340 - INFO - Preprocessing dataset split...\n",
      "2024-11-28 12:56:16,366 - INFO - Preprocessing complete.\n",
      "2024-11-28 12:56:16,377 - INFO - Data successfully saved to ../data/processed/electro_maroc.txt\n",
      "2024-11-28 12:56:16,377 - INFO - Processing myc split...\n",
      "2024-11-28 12:56:16,382 - INFO - Preprocessing dataset split...\n",
      "2024-11-28 12:56:16,436 - INFO - Preprocessing complete.\n",
      "2024-11-28 12:56:16,453 - INFO - Data successfully saved to ../data/processed/myc.txt\n",
      "2024-11-28 12:56:16,453 - INFO - Processing mac split...\n",
      "2024-11-28 12:56:16,453 - INFO - Preprocessing dataset split...\n",
      "2024-11-28 12:56:16,506 - INFO - Preprocessing complete.\n",
      "2024-11-28 12:56:16,515 - INFO - Data successfully saved to ../data/processed/mac.txt\n",
      "2024-11-28 12:56:16,516 - INFO - Processing transliteration split...\n",
      "2024-11-28 12:56:16,517 - INFO - Preprocessing dataset split...\n",
      "2024-11-28 12:56:16,565 - INFO - Preprocessing complete.\n",
      "2024-11-28 12:56:16,590 - INFO - Data successfully saved to ../data/processed/transliteration.txt\n",
      "2024-11-28 12:56:16,590 - INFO - Processing marsum split...\n",
      "2024-11-28 12:56:16,590 - INFO - Preprocessing dataset split...\n",
      "2024-11-28 12:56:16,665 - INFO - Preprocessing complete.\n",
      "2024-11-28 12:56:16,686 - INFO - Data successfully saved to ../data/processed/marsum.txt\n",
      "2024-11-28 12:56:16,686 - INFO - Preprocessing complete. All processed files are saved in data/processed/\n"
     ]
    }
   ],
   "source": [
    "for split in dataset:\n",
    "    logging.info(f\"Processing {split} split...\")\n",
    "    processed_data = preprocess_dataset(dataset[split])\n",
    "    output_file = f\"{PROCESSED_DATA_DIR}/{split}.txt\"\n",
    "    save_processed_data(processed_data, output_file)\n",
    "\n",
    "logging.info(\"Preprocessing complete. All processed files are saved in data/processed/\")"
   ]
  }
 ],
 "metadata": {
  "kernelspec": {
   "display_name": "ai",
   "language": "python",
   "name": "python3"
  },
  "language_info": {
   "codemirror_mode": {
    "name": "ipython",
    "version": 3
   },
   "file_extension": ".py",
   "mimetype": "text/x-python",
   "name": "python",
   "nbconvert_exporter": "python",
   "pygments_lexer": "ipython3",
   "version": "3.12.7"
  }
 },
 "nbformat": 4,
 "nbformat_minor": 2
}
